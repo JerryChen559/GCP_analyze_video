{
 "cells": [
  {
   "cell_type": "code",
   "execution_count": null,
   "metadata": {},
   "outputs": [],
   "source": [
    "# Implement GCP ML API \n",
    "# use Video Intelligence API to extract entities"
   ]
  },
  {
   "cell_type": "code",
   "execution_count": null,
   "metadata": {},
   "outputs": [],
   "source": [
    "# connect your google cloud account"
   ]
  },
  {
   "cell_type": "code",
   "execution_count": null,
   "metadata": {},
   "outputs": [],
   "source": [
    "# connect to any existing project\n",
    "!gcloud init"
   ]
  },
  {
   "cell_type": "code",
   "execution_count": null,
   "metadata": {},
   "outputs": [],
   "source": [
    "# change project id each time you run.\n",
    "PROJECT_ID = 'your-gcp-project-name'\n",
    "BUCKET = PROJECT_ID"
   ]
  },
  {
   "cell_type": "code",
   "execution_count": null,
   "metadata": {},
   "outputs": [],
   "source": [
    "# obtain billing code and assign it down\n",
    "!gcloud beta billing accounts list"
   ]
  },
  {
   "cell_type": "code",
   "execution_count": null,
   "metadata": {},
   "outputs": [],
   "source": [
    "# if you get an error in this, make sure you copied the billing account properly from above. No quotes required.\n",
    "!gcloud beta billing projects link {PROJECT_ID} --billing-account <Account_Id xxxxxx-xxxxxx-xxxxxx>"
   ]
  },
  {
   "cell_type": "code",
   "execution_count": null,
   "metadata": {},
   "outputs": [],
   "source": [
    "# open cloud shell\n",
    "# check credentials\n",
    "gcloud auth list\n",
    "gcloud config list project"
   ]
  },
  {
   "cell_type": "code",
   "execution_count": null,
   "metadata": {},
   "outputs": [],
   "source": [
    "# Set up authorization"
   ]
  },
  {
   "cell_type": "code",
   "execution_count": null,
   "metadata": {},
   "outputs": [],
   "source": [
    "# In Cloud Shell run the following command to create a new service account named quickstart\n",
    "gcloud iam service-accounts create quickstart"
   ]
  },
  {
   "cell_type": "code",
   "execution_count": null,
   "metadata": {},
   "outputs": [],
   "source": [
    "# Create a service account key file, replacing <your-project-123> with your Qwiklabs GCP Project ID\n",
    "gcloud iam service-accounts keys create key.json --iam-account quickstart@<your-project-123>.iam.gserviceaccount.com"
   ]
  },
  {
   "cell_type": "code",
   "execution_count": null,
   "metadata": {},
   "outputs": [],
   "source": [
    "# authenticate your service account, passing the location of your service account key file\n",
    "gcloud auth activate-service-account --key-file key.json"
   ]
  },
  {
   "cell_type": "code",
   "execution_count": null,
   "metadata": {},
   "outputs": [],
   "source": [
    "# Obtain an authorization token using your service account\n",
    "gcloud auth print-access-token"
   ]
  },
  {
   "cell_type": "code",
   "execution_count": null,
   "metadata": {},
   "outputs": [],
   "source": [
    "# Make an annotate video request"
   ]
  },
  {
   "cell_type": "code",
   "execution_count": null,
   "metadata": {},
   "outputs": [],
   "source": [
    "# Create a JSON request file. \n",
    "# Save it as request.json\n",
    "{\n",
    "   \"inputUri\":\"gs://cloud-ml-sandbox/video/chicago.mp4\",\n",
    "   \"features\": [\n",
    "       \"LABEL_DETECTION\"\n",
    "   ]\n",
    "}"
   ]
  },
  {
   "cell_type": "code",
   "execution_count": null,
   "metadata": {},
   "outputs": [],
   "source": [
    "# curl to make a videos:annotate request, \n",
    "# replacing ACCESS_TOKEN with the access token you printed, \n",
    "# passing the filename of the entity request\n",
    "# save name reponse for later\n",
    "curl -s -H 'Content-Type: application/json' \\\n",
    "    -H 'Authorization: Bearer ACCESS_TOKEN' \\\n",
    "    'https://videointelligence.googleapis.com/v1/videos:annotate' \\\n",
    "    -d @request.json"
   ]
  },
  {
   "cell_type": "code",
   "execution_count": null,
   "metadata": {},
   "outputs": [],
   "source": [
    "# request information on the operation by calling the v1.operations endpoint\n",
    "# replace ACCESS_TOKEN, OPERATION_NAME, name \n",
    "curl -s -H 'Content-Type: application/json' \\\n",
    "    -H 'Authorization: Bearer ACCESS_TOKEN' \\\n",
    "    'https://videointelligence.googleapis.com/v1/operations/OPERATION_NAME'"
   ]
  },
  {
   "cell_type": "code",
   "execution_count": null,
   "metadata": {},
   "outputs": [],
   "source": [
    "# done field will be set to true if operation is completed."
   ]
  },
  {
   "cell_type": "code",
   "execution_count": null,
   "metadata": {},
   "outputs": [],
   "source": []
  }
 ],
 "metadata": {
  "kernelspec": {
   "display_name": "Python 3",
   "language": "python",
   "name": "python3"
  },
  "language_info": {
   "codemirror_mode": {
    "name": "ipython",
    "version": 3
   },
   "file_extension": ".py",
   "mimetype": "text/x-python",
   "name": "python",
   "nbconvert_exporter": "python",
   "pygments_lexer": "ipython3",
   "version": "3.7.1"
  }
 },
 "nbformat": 4,
 "nbformat_minor": 2
}
